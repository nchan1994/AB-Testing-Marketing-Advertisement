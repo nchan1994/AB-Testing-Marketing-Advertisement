{
 "cells": [
  {
   "cell_type": "markdown",
   "metadata": {},
   "source": [
    "# A/B Testing for AD Campaigns on Client Website\n",
    "\n",
    "In this project, the task was to test whether a particular variant of an AD appearing on a client's website performs better or worse than the other variant of the same AD. \n",
    "\n",
    "A/B testing is appropriate here as it will rely on statistical analysis to determine which variant of the AD does better. A/B testing will also give us more objective and statistical evidence that proves which AD is better."
   ]
  },
  {
   "cell_type": "markdown",
   "metadata": {},
   "source": [
    "## Import Libraries and Load the Data"
   ]
  },
  {
   "cell_type": "code",
   "execution_count": 1,
   "metadata": {},
   "outputs": [],
   "source": [
    "import numpy as np\n",
    "import pandas as pd\n",
    "import matplotlib.pyplot as plt"
   ]
  },
  {
   "cell_type": "code",
   "execution_count": 2,
   "metadata": {},
   "outputs": [
    {
     "data": {
      "text/html": [
       "<div>\n",
       "<style scoped>\n",
       "    .dataframe tbody tr th:only-of-type {\n",
       "        vertical-align: middle;\n",
       "    }\n",
       "\n",
       "    .dataframe tbody tr th {\n",
       "        vertical-align: top;\n",
       "    }\n",
       "\n",
       "    .dataframe thead th {\n",
       "        text-align: right;\n",
       "    }\n",
       "</style>\n",
       "<table border=\"1\" class=\"dataframe\">\n",
       "  <thead>\n",
       "    <tr style=\"text-align: right;\">\n",
       "      <th></th>\n",
       "      <th>group</th>\n",
       "      <th>action</th>\n",
       "    </tr>\n",
       "  </thead>\n",
       "  <tbody>\n",
       "    <tr>\n",
       "      <th>0</th>\n",
       "      <td>experiment</td>\n",
       "      <td>view</td>\n",
       "    </tr>\n",
       "    <tr>\n",
       "      <th>1</th>\n",
       "      <td>control</td>\n",
       "      <td>view</td>\n",
       "    </tr>\n",
       "    <tr>\n",
       "      <th>2</th>\n",
       "      <td>control</td>\n",
       "      <td>view and click</td>\n",
       "    </tr>\n",
       "    <tr>\n",
       "      <th>3</th>\n",
       "      <td>control</td>\n",
       "      <td>view and click</td>\n",
       "    </tr>\n",
       "    <tr>\n",
       "      <th>4</th>\n",
       "      <td>control</td>\n",
       "      <td>view</td>\n",
       "    </tr>\n",
       "  </tbody>\n",
       "</table>\n",
       "</div>"
      ],
      "text/plain": [
       "        group          action\n",
       "0  experiment            view\n",
       "1     control            view\n",
       "2     control  view and click\n",
       "3     control  view and click\n",
       "4     control            view"
      ]
     },
     "execution_count": 2,
     "metadata": {},
     "output_type": "execute_result"
    }
   ],
   "source": [
    "df =pd.read_excel('AB Test.xlsx')\n",
    "df.head()"
   ]
  },
  {
   "cell_type": "code",
   "execution_count": 3,
   "metadata": {},
   "outputs": [
    {
     "name": "stdout",
     "output_type": "stream",
     "text": [
      "<class 'pandas.core.frame.DataFrame'>\n",
      "RangeIndex: 3757 entries, 0 to 3756\n",
      "Data columns (total 2 columns):\n",
      " #   Column  Non-Null Count  Dtype \n",
      "---  ------  --------------  ----- \n",
      " 0   group   3757 non-null   object\n",
      " 1   action  3757 non-null   object\n",
      "dtypes: object(2)\n",
      "memory usage: 58.8+ KB\n"
     ]
    }
   ],
   "source": [
    "# Show info\n",
    "df.info()"
   ]
  },
  {
   "cell_type": "code",
   "execution_count": 6,
   "metadata": {},
   "outputs": [
    {
     "data": {
      "text/plain": [
       "group     False\n",
       "action    False\n",
       "dtype: bool"
      ]
     },
     "execution_count": 6,
     "metadata": {},
     "output_type": "execute_result"
    }
   ],
   "source": [
    "# Check any null values\n",
    "\n",
    "df.isnull().any() # No null values"
   ]
  },
  {
   "cell_type": "markdown",
   "metadata": {},
   "source": [
    "# Hypothesis Testing Steps\n",
    "\n",
    "Before commencing on our analysis, I needed to define the steps of my hypothesis testing for this A/B Test.\n",
    "\n",
    "1) H0 (Null Hypothesis): Click Through Rate (CTR) of the new AD *is less* than the CTR of old AD.\n",
    "\n",
    "2) H1 (Alternative Hypothesis): The CTR of new AD *is more* than the CTR of old AD.\n",
    "\n",
    "3) The signiciance level (or alpha) is set to 95%.\n",
    "\n",
    "4) The p-value used for this significance test is set to 0.05 \n",
    "\n",
    "5) Draw conclusion based on significance and alpha test.\n"
   ]
  },
  {
   "cell_type": "code",
   "execution_count": 7,
   "metadata": {},
   "outputs": [
    {
     "data": {
      "text/plain": [
       "experiment    1881\n",
       "control       1876\n",
       "Name: group, dtype: int64"
      ]
     },
     "execution_count": 7,
     "metadata": {},
     "output_type": "execute_result"
    }
   ],
   "source": [
    "#Check value counts of our experiment and control ADs\n",
    "df['group'].value_counts()\n",
    "\n",
    "#Pretty balanced dataset"
   ]
  },
  {
   "cell_type": "markdown",
   "metadata": {},
   "source": [
    "**Experiment** is defined as the group involved with receiving the new variation of the ad\n",
    "\n",
    "**Control** is defined as the group that didn't receive the new ad\n"
   ]
  },
  {
   "cell_type": "code",
   "execution_count": 8,
   "metadata": {},
   "outputs": [
    {
     "data": {
      "text/plain": [
       "view              3082\n",
       "view and click     675\n",
       "Name: action, dtype: int64"
      ]
     },
     "execution_count": 8,
     "metadata": {},
     "output_type": "execute_result"
    }
   ],
   "source": [
    "#Check what actions did the viewers do when see variant of AD\n",
    "df.action.value_counts()\n",
    "\n",
    "#Generally more views than 'views and clicks'"
   ]
  },
  {
   "cell_type": "markdown",
   "metadata": {},
   "source": [
    "When it comes to ADs, we need to be familiar with the concept of 'Click Through Rate'.\n",
    "\n",
    "**Click Through Rate (CTR)** is the number of clicks AD's receive on their ads per number of impressions.\n"
   ]
  },
  {
   "cell_type": "markdown",
   "metadata": {},
   "source": [
    "# Calculate CTR "
   ]
  },
  {
   "cell_type": "code",
   "execution_count": 12,
   "metadata": {},
   "outputs": [
    {
     "name": "stdout",
     "output_type": "stream",
     "text": [
      "CTR for Control Group is  0.19\n"
     ]
    }
   ],
   "source": [
    "# Get dataframe with all observations from control group \n",
    "df_control = df.query('group==\"control\"')\n",
    "\n",
    "# Compute CTR for control group \n",
    "ctr_control = df_control.query('action == \"view and click\"').index.nunique()/df_control.index.nunique()\n",
    "\n",
    "#Display the CTR For the control group\n",
    "print(\"CTR for Control Group is \", round(ctr_control,2))\n"
   ]
  },
  {
   "cell_type": "code",
   "execution_count": 13,
   "metadata": {},
   "outputs": [
    {
     "name": "stdout",
     "output_type": "stream",
     "text": [
      "CTR for Experiment Group is  0.17\n"
     ]
    }
   ],
   "source": [
    "# Get dataframe with all records from experiment group \n",
    "df_experiment = df.query('group==\"experiment\"')\n",
    "\n",
    "# Compute click through rate for experiment group \n",
    "ctr_experiment = df_experiment.query('action == \"view and click\"').index.nunique()/df_experiment.index.nunique()\n",
    "\n",
    "#Display the CTR For the experiment group\n",
    "print(\"CTR for Experiment Group is \", round(ctr_experiment,2))"
   ]
  },
  {
   "cell_type": "code",
   "execution_count": 14,
   "metadata": {},
   "outputs": [
    {
     "name": "stdout",
     "output_type": "stream",
     "text": [
      "Experiment has a lower CTR than Control by  -0.03\n"
     ]
    }
   ],
   "source": [
    "#Compute the difference in the CTR \n",
    "diff = ctr_experiment - ctr_control\n",
    "#display the difference \n",
    "print('Experiment has a lower CTR than Control by ', round(diff,2))"
   ]
  },
  {
   "cell_type": "markdown",
   "metadata": {},
   "source": [
    "Even though Experiment had a lower CTR than Control, is this statistically significant? Or just happen by chance with the data collected? To check this, we will need to see if we can reject our H0. "
   ]
  },
  {
   "cell_type": "markdown",
   "metadata": {},
   "source": [
    "However, with our relatively small sample size, it will be difficult to draw conclusions from our analysis with confidence. Therefore, I employ bootstrapping, a statistical technique for estimating quantities about a population by averaging estimates from small data samples. \n",
    "\n",
    "These bootstrapped samples will be constructed by drawing observations from a large data sample one at a time, and returning them back to the data sample after they have been chosen. This allows a given observation to be included in a given small sample more than once (i.e. Resampling with replacement). \n",
    "\n",
    "Concept is related to the Central Limit Theorem, which states that a population with mean (m) and standard deviation (SD), and you take a sufficiently large random sample from this population with replacement, then the distribution of the sample's mean will be approximately normally distributed. "
   ]
  },
  {
   "cell_type": "code",
   "execution_count": 15,
   "metadata": {},
   "outputs": [],
   "source": [
    "#bootsrapping our data sample\n",
    "differences = []\n",
    "size = df.shape[0]\n",
    "for i in range(10000):\n",
    "    sample = df.sample(size,replace=True)\n",
    "    df_control = sample.query('group==\"control\"')\n",
    "    df_experiment = sample.query('group==\"experiment\"')\n",
    "    ctr_experiment = df_experiment.query('action == \"view and click\"').index.nunique()/df_experiment.index.nunique()\n",
    "    ctr_control = df_control.query('action == \"view and click\"').index.nunique()/df_control.index.nunique()\n",
    "    differences.append(ctr_experiment-ctr_control)"
   ]
  },
  {
   "cell_type": "code",
   "execution_count": 17,
   "metadata": {},
   "outputs": [
    {
     "data": {
      "text/plain": [
       "array([-0.01625223, -0.04299596, -0.05155608, ..., -0.03092784,\n",
       "       -0.03563176, -0.0312726 ])"
      ]
     },
     "execution_count": 17,
     "metadata": {},
     "output_type": "execute_result"
    }
   ],
   "source": [
    "differences # an array containing the differences between Experiment and Control CTR in our bootstrapped samples"
   ]
  },
  {
   "cell_type": "markdown",
   "metadata": {},
   "source": [
    "## Evaluate H0 and Draw Conclusion Based on Boostrapped Sample"
   ]
  },
  {
   "cell_type": "code",
   "execution_count": 16,
   "metadata": {},
   "outputs": [
    {
     "data": {
      "text/plain": [
       "(array([   5.,   59.,  401., 1357., 2655., 2866., 1889.,  643.,  113.,\n",
       "          12.]),\n",
       " array([-0.06607218, -0.05862679, -0.05118139, -0.043736  , -0.0362906 ,\n",
       "        -0.02884521, -0.02139981, -0.01395442, -0.00650902,  0.00093637,\n",
       "         0.00838177]),\n",
       " <BarContainer object of 10 artists>)"
      ]
     },
     "execution_count": 16,
     "metadata": {},
     "output_type": "execute_result"
    },
    {
     "data": {
      "image/png": "[encoded data removed]",
      "text/plain": [
       "<Figure size 432x288 with 1 Axes>"
      ]
     },
     "metadata": {
      "needs_background": "light"
     },
     "output_type": "display_data"
    }
   ],
   "source": [
    "# Plot the sampling distribution \n",
    "differences = np.array(differences)\n",
    "plt.hist(differences) # We can see that it is a normally distributed plot!"
   ]
  },
  {
   "cell_type": "code",
   "execution_count": 20,
   "metadata": {},
   "outputs": [
    {
     "data": {
      "text/plain": [
       "<matplotlib.lines.Line2D at 0x7f816a32f6d0>"
      ]
     },
     "execution_count": 20,
     "metadata": {},
     "output_type": "execute_result"
    },
    {
     "data": {
      "image/png": "[encoded data removed]",
      "text/plain": [
       "<Figure size 432x288 with 1 Axes>"
      ]
     },
     "metadata": {
      "needs_background": "light"
     },
     "output_type": "display_data"
    }
   ],
   "source": [
    "#simulate the distribution under the null hypothesis \n",
    "h0 = np.random.normal(0,differences.std(),differences.size)\n",
    "\n",
    "#plot the null distribution \n",
    "plt.hist(h0)\n",
    "plt.axvline(diff, c='red')\n",
    "\n",
    "#The null hypothesis is larger than the statistic most of the time"
   ]
  },
  {
   "cell_type": "markdown",
   "metadata": {},
   "source": [
    "**P-Value** is the probability of observing your statistic (or one more extreme in favor of the alternative) if the null hypothesis is true."
   ]
  },
  {
   "cell_type": "code",
   "execution_count": 23,
   "metadata": {},
   "outputs": [
    {
     "name": "stdout",
     "output_type": "stream",
     "text": [
      "p-value 0.9978\n"
     ]
    }
   ],
   "source": [
    "# Compute the  P-value \n",
    "print('p-value', round((h0>diff).mean(),4))\n",
    "\n",
    "#We fail to reject the null hypothesis. \n",
    "#It suggest that the New AD performs as well as the Old AD"
   ]
  },
  {
   "cell_type": "markdown",
   "metadata": {},
   "source": [
    "However, we should note that all changes need to go through some period of time before change is accepted by the audience. So they should wait a bit longer to see if the change is okay. "
   ]
  }
 ],
 "metadata": {
  "kernelspec": {
   "display_name": "Python 3",
   "language": "python",
   "name": "python3"
  },
  "language_info": {
   "codemirror_mode": {
    "name": "ipython",
    "version": 3
   },
   "file_extension": ".py",
   "mimetype": "text/x-python",
   "name": "python",
   "nbconvert_exporter": "python",
   "pygments_lexer": "ipython3",
   "version": "3.8.8"
  }
 },
 "nbformat": 4,
 "nbformat_minor": 4
}
